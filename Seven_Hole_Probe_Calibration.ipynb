{
  "nbformat": 4,
  "nbformat_minor": 0,
  "metadata": {
    "colab": {
      "name": "Seven-Hole Probe Calibration",
      "provenance": [],
      "collapsed_sections": [],
      "toc_visible": true,
      "include_colab_link": true
    },
    "kernelspec": {
      "name": "python3",
      "display_name": "Python 3"
    }
  },
  "cells": [
    {
      "cell_type": "markdown",
      "metadata": {
        "id": "view-in-github",
        "colab_type": "text"
      },
      "source": [
        "<a href=\"https://colab.research.google.com/github/arielya/SevenHoleProbe/blob/master/Seven_Hole_Probe_Calibration.ipynb\" target=\"_parent\"><img src=\"https://colab.research.google.com/assets/colab-badge.svg\" alt=\"Open In Colab\"/></a>"
      ]
    },
    {
      "cell_type": "markdown",
      "metadata": {
        "id": "z9z7Xilk38w1",
        "colab_type": "text"
      },
      "source": [
        "<h5 align=\"right\">May 2019</h5>\n",
        "\n"
      ]
    },
    {
      "cell_type": "markdown",
      "metadata": {
        "id": "EDlj_EAj4_gq",
        "colab_type": "text"
      },
      "source": [
        "#<h1 align=\"center\">Seven-Hole Probe Calibration</h1>\n",
        "<h3 align=\"center\">Ariel Yaniv</h3>\n",
        "<h3 align=\"center\">Meadow Aerodynamics Laboratory, Tel-Aviv University</h3>\n",
        "<h4 align=\"center\">ariel.yaniv@tum.de</h3>"
      ]
    },
    {
      "cell_type": "markdown",
      "metadata": {
        "id": "7ocKjtk8JnzI",
        "colab_type": "text"
      },
      "source": [
        "# Introduction\n",
        "\n",
        "\n",
        "\n",
        "---\n",
        "\n",
        "This document explains, in practice, how to calibrate a seven-hole probe, and the general handling of different coordinate systems in a wind tunnel. The seven-hole probe is an application used to indicate the velocity vector in the current point of the probe. It gives as an output the velocity magnitude and two angles. From these results, the three components of the velocity vector can be estimated. The probe estimate is calculated through correlating  the pressures and a polynomial. The polynomial coefficients should be found, or in other words, should be calibrated for the specific probe.\n",
        "\n",
        "For the calibration, the probe gets as an input two angles in a certain reference system and three pressure coefficients. The pressure coefficient estimation is quite simple and will be discussed in the first part of this document. During the calibration process, the probe is set in a known angle relative to the upstream. The angle of the probe relative to the flow is set by two servo motors. The estimation of the angles is more complicated as it needs the angle to be in the probe reference system, which is not equal to the servo motor system angles. The transformation to the probe system depends on the servo motor system, and it will be explained for two different systems.\n",
        "\n",
        "The seven-hole probe is a great example of the coordinate transformation between two different reference systems and to the global wind tunnel coordinate system. This document has been written in this format with the code, in order to explain not only the theory but also the practical applications.\n",
        "\n",
        "---\n",
        "\n"
      ]
    },
    {
      "cell_type": "markdown",
      "metadata": {
        "id": "Pvw9iHsGKBdm",
        "colab_type": "text"
      },
      "source": [
        "# The Seven-Hole Probe\n",
        "\n",
        "The seven-hole probe is an application that was first developed by NASA and the U.S. Air Force Academy to measure the velocity of three components. The probe is a stick with seven pressure holes that are usually located in a fixed point in the flow field. The figure below shows a drawing of the seven-hole probe and its coordinate system.\n",
        "\n",
        "<img src=\"https://github.com/arielya/SevenHoleProbe/blob/master/images/seven-hole-probe-02.png?raw=1\"  text-align=\"center\" align=\"center\" width=\"40%\"/>\n",
        "<div align=\"center\"><b>Figure 1</b>: Seven-hole probe front and side view with its fixed-body coordinate system <sup>[3]</sup></div>\n",
        "\n",
        "During the calibration process, set the probe in a known angle to the flow and known velocity. This way for future applications, the flow angle relative to the probe and the velocity magnitude is given as a result. With this, the calculation of the velocity is given in three components. When mapping the vorticity in the wake behind an object this pratice proves useful.\n",
        "\n",
        "Pressure input is then received from seven holes, and as an output, the velocity magnitude and two angles are given. This is calculated by matices multiplication between the pressure coefficients, calculated from the seven pressures of the probe, and the calibration coeffiecients matrix. The calibration coefficients are unique for certain probes and are a result of a calibration process.\n",
        "\n",
        "As well as by the calibration as by the application, the estimation of the flow velocity and the angles distinguishes between two reference systems. The choice of the reference system is determined by the hole with the maximum pressure. Maximum pressure detected by the center hole will register as a small flow angle, and a maximum pressure detected by one of the surrounding holes signals a high flow angle. The polar reference system is most practical for the high flow angles, while the tangential reference system will be more practical for low flow angles.\n",
        "\n",
        "Since this document is focused on the practical calibration and coordinate system and transformations, we will not go deeper here in the theory of the seven-hole probe. For more information see Rapid Calibration of Seven-Hole Probes, by A.L. Ericksen *et al* [3]."
      ]
    },
    {
      "cell_type": "markdown",
      "metadata": {
        "id": "9RJTlveM5wBL",
        "colab_type": "text"
      },
      "source": [
        "# The Calibration \n",
        "\n",
        "As mentioned before, the seven-hole probe needs as an input for the calibration angles in two different coordinate systems. Depending on the case, angles should be in a polar or a tangent coordinate system. The reference system is determinated by the hole with the greatest pressure. If the maximum pressure detected by the center hole, then the tangential reference system will be used, which is also related to small flow angles. Otherwise, the polar reference system will be used, which is defined for greater flow angles. Similarly, the angles output after the calibration will be in the same reference system. Here, the probe is divided into sectors, as proposed in Figure 3. Sector 7, is the center hole, and sectors 1 through 6 are the polar holes.\n",
        "\n",
        "Figure 2 shows the seven-hole probe in a wind tunnel. The coordinate system is the probe fixed-body coordinate system. Vector $V$ is the flow velocity and $u$, $v$ and $w$ are the velocity's components relative to the probe coordinate system. The angles $\\alpha_T$ and $\\beta_T$ are the tangential reference system, and the $\\theta$ and $\\phi$ are polar reference system.\n",
        "\n",
        "\n",
        "<img src='https://drive.google.com/uc?export=view&id=1Xk9QrUb0M36mFm6CVVuwchqn7Zs1LV0B'  text-align=\"center\" align=\"middle\" width=\"80%\"/>\n",
        "<div align=\"center\"><b>Figure 2</b>: Left: The seven-hole probe with its coordinate system and relative flow, right: the seven-hole section deviation <sup>[3]</sup></div>\n",
        "\n",
        "The conventional reference system depends on the equipment setup. In Figure 2, the $\\alpha$ and the $\\beta$ represent the rotation of the $z$-axis with $\\alpha$ followed by the $y$-axis with $\\beta$. \n",
        "\n",
        "The conventional reference system in this document is different, since the following examples have a different servo motor system and a different probe holder system. In the next section, it will be explained how to get the equations for the conventional reference system. Afterward, the transformation from the conventional reference system to the other systems, tangential or polar, will be discussed. Two probe holders will be presented, which will create two different conventional reference systems.\n",
        "\n",
        "As well as for the angles as for the calibration pressure coefficients, it distinguishes between the two reference systems. In the next section, the pressure cofficients will be reviewed as well as the referenced angles."
      ]
    },
    {
      "cell_type": "markdown",
      "metadata": {
        "id": "35hIeuHmzZZv",
        "colab_type": "text"
      },
      "source": [
        "## Calibration - Pressure Coefficients\n",
        "\n",
        "The complete set for the calibration includes three independent pressure coefficients resolved into the tangential or polar reference system. The final calibration coefficients matrix $K_n$ is a 20 by 4 matrix for each pressure hole or section, $n$. The coefficient matrix $C$ ist a 20 by 1 matrix. By $C$, the 20 entries of the matrix are built by a third degree polynomial from three pressure coefficients, $C_{\\alpha_T}$ or $C_{\\theta}$, $C_{\\beta_T}$ or $C_{\\phi}$ and $C_M$. Multiplication of these two matices yields the results vector $A$, which is a 1 by 4 vector with two angles and two pressure coefficients.\n",
        "To solve the optimization problem and find the calibration coefficients matrix $K$, the result vector $A$ must be known: the two angles, $\\alpha_T$ or $\\theta$ and $\\beta_T$ or $\\phi$, and the two pressure coefficients $C_o$ and $C_q$. The next section defines the equations of the pressure coeffiecients, depending on the reference system. The angles will be disscused in the next section.\n",
        "\n",
        "### Coefficients Matrix $C$\n",
        "#### Tangential Reference System\n",
        "\n",
        "The three ceofficients that build the polynom in the coefficient matrix in the tangential reference system are defined as follows:\n",
        "\n",
        "$$\n",
        "\\begin{align}\n",
        "  C_{\\alpha_T} &= \\frac{2}{3}\\left( C_{\\alpha a} +  \\frac{1}{2}C_{\\alpha v} -  \\frac{1}{2}C_{\\alpha c} \\right)  \\\\\n",
        "  C_{\\beta_T} &  = \\frac{2}{3}\\left( \\frac{\\sqrt{3}}{2}C_{\\alpha a} + \\frac{\\sqrt{3}}{2}C_{\\alpha b} \\right) \n",
        "\\end{align}\n",
        "$$\n",
        "and\n",
        "$$\n",
        "\\begin{align}\n",
        "  C_{M} &= ( P_7 - \\overline{P}_{1-6} ) / P_7\n",
        "\\end{align}\n",
        "$$\n",
        "\n",
        "where\n",
        "$$\n",
        "\\begin{align}\n",
        "  C_{\\alpha a} &= \\left( P_4 - P_1 \\right) / ( P_7 - \\overline{P}_{1-6} ) \\\\\n",
        "  C_{\\alpha b} &= \\left( P_3 - P_6 \\right) / ( P_7 - \\overline{P}_{1-6} )\\\\\n",
        "  C_{\\alpha c} &= \\left( P_2 - P_5 \\right) / ( P_7 - \\overline{P}_{1-6} ) \n",
        "\\end{align}\n",
        "$$\n",
        "\n",
        "#### Polar Reference System\n",
        "\n",
        "By the polar reference system, instead of $C_{\\alpha_T}$, $C_{\\beta_T}$ and $C_{M}$ the following coefficients for a cetain sector $n$ will be used:\n",
        "\n",
        "$$\n",
        "\\begin{align}\n",
        "  C_{\\theta n} &= \\frac{ P_n - P_7 }{ P_n - \\frac{1}{2}(P_{n-1} + P_{n+1}) } \\\\\n",
        "  \\\\\n",
        "  C_{\\phi n} &= \\frac{ P_{n-1} - P_{n+1} }{ P_n - \\frac{1}{2}(P_{n-1} + P_{n+1}) } \\\\\n",
        "  \\\\\n",
        "  C_{M n} &= \\frac{ P_{n} - \\frac{1}{2}(P_{n-1} + P_{n+1}) }{ P_n } \n",
        "\\end{align}\n",
        "$$\n",
        "\n",
        "where $n$ represents the outer port numbers $(n = 1, ..., 6)$. When $n = 1$, replace $n-1$ with 6, and when $n = 6$, replace $n+1$ with 1.\n",
        "\n",
        "The three pressure coefficients above, build the ceofficients matrix $C$, which will be defined in the code.\n",
        "\n",
        "### The Result Vector $A$ \n",
        "\n",
        "Two pressure coefficients toegther with the two corresponding angles build the result vector $A$. By the calibration, it will be used to solve the optimition problem and to find the calibration coefficients of the matrix $K$ for each hole. The pressure coefficients are the total pressure coefficient, $C_o$, and the dynamic pressure coefficient, $C_q$.\n",
        "\n",
        "For tangenial reference system, the vector $A$ defindes as:\n",
        "\n",
        "$$\n",
        "\\begin{align}\n",
        "  A = \\left[\\alpha_T,\\ \\beta_T,\\ C_o,\\ C_q\\right]\n",
        "\\end{align}\n",
        "$$ \n",
        "and for the polar system:\n",
        "$$\n",
        "\\begin{align}\n",
        "  A = \\left[\\theta,\\ \\phi,\\ C_o,\\ C_q\\right]\n",
        "\\end{align}\n",
        "$$\n",
        "\n",
        "In the calibration process we know the velocity, or the static pressure, and the angles. Then we use thus to estimate the pressure coeffiecient, $C_o$ and $C_q$. For the tangenial reference system:\n",
        "\n",
        "$$\n",
        "\\begin{align}\n",
        "  C_o &=& (P_7 - P_o) / ( P_7 - \\overline{P}_{1-6} ) \\\\ \\\\\n",
        "  C_q &=& ( P_7 - \\overline{P}_{1-6} ) / (P_o - P_\\infty)\n",
        "\\end{align}\n",
        "$$ \n",
        "and for the polar system:\n",
        "$$\n",
        "\\begin{align}\n",
        "  C_o &=& \\frac{ P_n - P_o }{ P_n - \\frac{1}{2}(P_{n-1} + P_{n+1}) } \\\\ \\\\\n",
        "  C_q &=& \\frac{ P_n - \\frac{1}{2}(P_{n-1} + P_{n+1}) }{ P_o - P_\\infty }\n",
        "\\end{align}\n",
        "$$\n",
        "\n",
        "$P_\\infty$ is the static pressure and $P_o$ is the total pressure."
      ]
    },
    {
      "cell_type": "markdown",
      "metadata": {
        "id": "VrDg2JfWYOQd",
        "colab_type": "text"
      },
      "source": [
        "## The Calibration Algorithm\n",
        "\n",
        "The code below outlines the calibration algorithm. This code does not include real measured data, but rather two example points for the errorless running of the code. \n",
        "\n",
        "The seven-hole probe moves in the wind tunnel and measures the pressure in a range of positions of alpha and beta angles. This data will be set into an array, where each element represents a struct with the measured data of a certain position defined by servo motor angles, alpha and beta.\n",
        "\n",
        "After the initialization, the code will go through all the measured points and estimate the relevant coefficient and angles for each probe position. First, it pinpoints the maximal pressure hole, which will determine the reference system for the calculation of the coefficients and the angles. \n",
        "\n",
        "If the maximum pressure is found to be coming from the center hole, the calculatulation will be done with tangential reference system equations. Maximal pressure by any other hole will be calculated with polar reference system equations. Three coefficients and two angles are estimated for each point and are saved into an array (or list) of results for each hole. \n",
        "\n",
        "Finally, for each hole, a matrix of calibration constant coefficients $K_n$ is estimated algebraically by matrix multiplication of the coefficient matrix $C_n$ with the known result vector $A_n$. \n",
        "\n",
        "Here, the transformation from the servo motor angles, alpha and beta, to the polar or tangential angles is missing. The next step is to estimate these angles in $A$ to complete the equation system."
      ]
    },
    {
      "cell_type": "code",
      "metadata": {
        "id": "_q86bm0tR0a0",
        "colab_type": "code",
        "colab": {}
      },
      "source": [
        "import numpy as np\n",
        "\n",
        "# total and static pressure\n",
        "# the total pressure can be also added to the measured point if it's measured\n",
        "#   newly each time\n",
        "pO = 1.2e5\n",
        "pInf = 1.01325e5\n",
        "\n",
        "# center hole index\n",
        "idxCenterHole = 6\n",
        "\n",
        "# for smooth run of the code\n",
        "alphaT=1\n",
        "betaT=1\n",
        "theta=1\n",
        "phi=1\n",
        "\n",
        "# example of struct for single measured point\n",
        "sevenHoleMeasPoint =\t{\n",
        "  \"alpha\": 0.0,\n",
        "  \"beta\": 0.0,\n",
        "  \"p\": [0.5,0.5,0,0,0,0,1]\n",
        "}\n",
        "sevenHoleMeasPoint2 =\t{\n",
        "  \"alpha\": 0.0,\n",
        "  \"beta\": 0.0,\n",
        "  \"p\": [0.5,0.5,0,0,0,0,1.3]\n",
        "}\n",
        "# example of list of measured points \n",
        "sevenHoleCalibSet = [sevenHoleMeasPoint, sevenHoleMeasPoint2]\n",
        "\n",
        "# init calibration coefficients arrays\n",
        "cAlphaTheta = (list(), list(), list(), list(), list(), list(), list())\n",
        "cBetaPhi = (list(), list(), list(), list(), list(), list(), list())\n",
        "cM = (list(), list(), list(), list(), list(), list(), list())\n",
        "\n",
        "# init the result arrays\n",
        "A = dict()\n",
        "A['alphaTheta'] = (list(), list(), list(), list(), list(), list(), list())\n",
        "A['betaPhi'] = (list(), list(), list(), list(), list(), list(), list())\n",
        "A['Co'] = (list(), list(), list(), list(), list(), list(), list())\n",
        "A['Cq'] = (list(), list(), list(), list(), list(), list(), list())\n",
        "\n",
        "def calcTangetialPressureCoef(p):\n",
        "  idxCenterHole = 6\n",
        "  pMean = np.mean(p[0:6])\n",
        "  cAlphaA = (p[3]-p[1]) / (p[idxCenterHole] - pMean)\n",
        "  cAlphaB = (p[2]-p[5]) / (p[idxCenterHole] - pMean)\n",
        "  cAlphaC = (p[1]-p[4]) / (p[idxCenterHole] - pMean)\n",
        "    \n",
        "  # calculate the coefficients\n",
        "  cAlphaT = (2/3) * (cAlphaA + 0.5*cAlphaB - 0.5*cAlphaC)\n",
        "  cBetaT = (2/3) * (np.sqrt(3)/2) * (cAlphaA + cAlphaB)\n",
        "  cM7 = 1 - (pMean / p[idxCenterHole])\n",
        "  \n",
        "  return cAlphaT, cBetaT, cM7\n",
        "\n",
        "def calcPolarPressureCoef(p, n):\n",
        "  if n == 0:\n",
        "    idxLeft = 5\n",
        "    idxRight = n + 1\n",
        "  elif n == 5:\n",
        "    idxLeft = n - 1\n",
        "    idxRight = 0\n",
        "  else:\n",
        "    idxLeft = n - 1\n",
        "    idxRight = n + 1\n",
        "      \n",
        "  tempTerm = p[idxCenterHole] - ((p[idxLeft] + p[idxRight]) / 2.0)\n",
        "  cThetaN = ((p[n] - p[idxCenterHole]) / tempTerm)\n",
        "  cPhiN = ((p[idxLeft] - p[idxRight]) / tempTerm)\n",
        "  cMn = tempTerm / p[n]\n",
        "  \n",
        "  return cThetaN, cPhiN, cMn\n",
        "\n",
        "def calcCoefMatrix(cAlphaTheta, cBetaPhi, cM):\n",
        "  C = np.transpose(np.matrix([\n",
        "       np.ones(len(cM)), \n",
        "       cAlphaTheta, \n",
        "       cBetaPhi, \n",
        "       cM,\n",
        "       np.power(cAlphaTheta, 2),\n",
        "       np.power(cBetaPhi, 2), \n",
        "       np.power(cM, 2),\n",
        "       np.multiply(cAlphaTheta,cBetaPhi),\n",
        "       np.multiply(cAlphaTheta,cM),\n",
        "       np.multiply(cBetaPhi, cM),\n",
        "       np.power(cAlphaTheta, 3),\n",
        "       np.power(cBetaPhi, 3),\n",
        "       np.power(cM, 3),\n",
        "       np.multiply(np.power(cAlphaTheta, 2), cBetaPhi),\n",
        "       np.multiply(np.power(cAlphaTheta, 2), cM),\n",
        "       np.multiply(np.power(cBetaPhi, 2), cAlphaTheta),\n",
        "       np.multiply(np.power(cM, 2), cAlphaTheta),\n",
        "       np.multiply(np.power(cBetaPhi, 2), cM),\n",
        "       np.multiply(np.power(cM, 2), cBetaPhi),\n",
        "       np.multiply(np.multiply(cAlphaTheta, cBetaPhi), cM)]))\n",
        "  \n",
        "  return C\n",
        "\n",
        "for i, dataPoint in enumerate(sevenHoleCalibSet):\n",
        "  p = dataPoint['p']\n",
        "  alpha = dataPoint['alpha']\n",
        "  beta = dataPoint['beta']\n",
        "  n = np.argmax(p) # index of p max\n",
        "  if n == idxCenterHole:\n",
        "    # calculate calibration the coefficients\n",
        "    cAlphaT, cBetaT, cM7 = calcTangetialPressureCoef(p)\n",
        "    # append to list\n",
        "    cAlphaTheta[idxCenterHole].append(cAlphaT)\n",
        "    cBetaPhi[idxCenterHole].append(cBetaT)\n",
        "    cM[idxCenterHole].append(cM7)\n",
        "    \n",
        "    pMean = np.mean(p[0:6])\n",
        "    # Angles, Co, Cq\n",
        "    Co = (p[idxCenterHole]-pO) / (p[idxCenterHole] - pMean)\n",
        "    Cq = (p[idxCenterHole]-pMean) / (pO - pInf)\n",
        "    \n",
        "    A['Co'][idxCenterHole].append(Co)\n",
        "    A['Cq'][idxCenterHole].append(Cq)\n",
        "    \n",
        "    #alphaT, betaT = clacTangentialAngles(alpha,beta)\n",
        "    A['alphaTheta'][idxCenterHole].append(alphaT)\n",
        "    A['betaPhi'][idxCenterHole].append(betaT)\n",
        "  else:  \n",
        "    # calculate calibration the coefficients\n",
        "    cThetaN, cPhiN, cMn = calcPolarPressureCoef(p, n)\n",
        "    # append\n",
        "    cAlphaTheta[n].append(cThetaN)\n",
        "    cBetaPhi[n].append(cPhiN)\n",
        "    cM[n].append(cMn)\n",
        "    \n",
        "    # Angles, Co, Cq\n",
        "    Co = (p[n]-pO) / (tempTerm)\n",
        "    Cq = (tempTerm) / (pO - pInf)\n",
        "    A['Co'][n].append(Co)\n",
        "    A['Cq'][n].append(Cq)\n",
        "    \n",
        "    #theta, phi = clacPolarAngles(alpha,beta)\n",
        "    A['alphaTheta'][n].append(theta)\n",
        "    A['betaPhi'][n].append(phi)\n",
        "\n",
        "    \n",
        "K = [np.matrix([]), np.matrix([]), np.matrix([]),\n",
        "     np.matrix([]), np.matrix([]), np.matrix([]),\n",
        "     np.matrix([])]\n",
        "\n",
        "for i in range(7):\n",
        "  An = np.transpose(np.matrix([ A['alphaTheta'][i], A['betaPhi'][i], A['Co'][i], A['Cq'][i] ]))\n",
        "\n",
        "  C = calcCoefMatrix(cAlphaTheta[i], cBetaPhi[i], cM[i])\n",
        "\n",
        "  # K = (C^T * C^-1) * C^T * A\n",
        "  if np.count_nonzero(C) != 0:\n",
        "    K[i] = np.dot(np.dot( np.dot(np.transpose(C), C).I, np.transpose(C)), An)\n",
        "  \n"
      ],
      "execution_count": 0,
      "outputs": []
    },
    {
      "cell_type": "markdown",
      "metadata": {
        "id": "uJNejTrUSUoa",
        "colab_type": "text"
      },
      "source": [
        "# The Servo System at Meadow-Knapp Wind Tunnel\n",
        "\n",
        "The calibration was executed at the Meadow-Knapp Wind Tunnel of Tel Aviv University. It's important to note, that this wind tunnel hosts two servo motors helping to determine the position of the seven-hole probe. The first motor moves in parallel to the wind tunnel's walls, and the second motor rotates in relation to the first. The sketch below outlines the wind tunnel and the two motors.\n",
        "\n",
        "<img src='https://drive.google.com/uc?export=view&id=1aqGia1umiLaaprpBMo9psabhaJUnjWN3'  text-align=\"center\" align=\"middle\" width=\"55%\"/>\n",
        "<div align=\"center\"><b>Figure 3</b>: Sketch of the wind tunnel and the servo moror system</div>\n",
        "\n",
        "The two perspex glass disks and the probe are rotated in parallel to the wind tunnel's walls by the servo motor. This  rotation is marked with $\\alpha$. The second motor rotates the rod around its axis. This rotation is marked with $\\beta$.\n",
        "\n",
        "The transformation from the inertial coordinate system fixed by the wind tunnel to a fixed-body coordinate system is calculated by rotating $\\alpha$ followed by $\\beta$.\n",
        "\n",
        "$$\n",
        "\\begin{equation}\n",
        "\\vec{U}_{body} = T_\\beta T_\\alpha \\vec{U}_{iner}\n",
        "\\end{equation}\n",
        "$$\n",
        "\n",
        "When $T_\\alpha$ and $T_\\beta$ are the transformation matrices in $\\alpha$, and $\\beta$. $U_{body}$ is the velocity vector in a fixed body coordinate system, the vector $U_{iner}$ is the velocity vector inertial system. In the wind tunnel, this is equal to $U_{iner} = \\left[ u_\\infty, 0, 0\\right]$. \n",
        "\n",
        "In the next sections, two cases will be discussed. Each case uses a different holder to connect the probes to the servo motors and therefore creates a different equation system for the calibration of the seven-hole probe.\n",
        "\n",
        "The Figure below shows the probe mount in the wind tunnel and its coordinate system. Left, is the probe with the L-mount and in the right Figure, the probe mount by so-called X-mount. The probe coordinate system is fixed as described in Figure 1. In Figure 4, the probes are in an initial position of $\\alpha = 0$ and $\\beta=0$, and the probe coordinate system is equal with the wind tunnel's coordinate system. The difference between the two is the rotation that the probe undergoes when the servo motors rotate.\n",
        "\n",
        "\n",
        "\n",
        "<img src='https://drive.google.com/uc?export=view&id=1FY8tR6x0rovhosUgxjMwQ03k_warp40F'  text-align=\"center\" align=\"middle\" width=\"45%\"/>\n",
        "<img src='https://drive.google.com/uc?export=view&id=1wxiKqdOFyoR7Xc34JgpEjc4hjKDkQJCK'  text-align=\"center\" align=\"middle\" width=\"45%\"/>\n",
        "<div align=\"center\"><b>Figure 4</b>: Left: L-mount rotation in $y$ and $z$ axes, right: X-mount rotation in $y$ and $x$ axes</div>\n",
        "\n",
        "\n"
      ]
    },
    {
      "cell_type": "markdown",
      "metadata": {
        "id": "i0MX-OjTG6al",
        "colab_type": "text"
      },
      "source": [
        "# Calibration - Angle Estimation"
      ]
    },
    {
      "cell_type": "markdown",
      "metadata": {
        "id": "aTjnBui8yeXQ",
        "colab_type": "text"
      },
      "source": [
        "## L-Mount\n",
        "\n",
        "The first probe mount is built to hold the probe in such a way that it rotates around its $y$ and its $z$-axes. In this case, the flow, in relation to the probe, can be described with the following equation:\n",
        "\n",
        "\n",
        "$$\n",
        "\\begin{equation}\n",
        "  \\vec{U}_{probe} = T_z(\\beta) \\cdot T_y(\\alpha) \\cdot \\vec{U}_{WT}\n",
        "\\end{equation}\n",
        "$$\n",
        "\n",
        "\n",
        "Where $U_{probe}$ is the flow vector in the fixed body reference system, then $U_{WT}$ is the flow vector in the inertial system of the wind tunnel. As previously mentioned in the last section, the flow vector is equal to $U_{WT} = \\left[ u_\\infty, 0, 0\\right]$. $T_y(\\alpha)$ and $T_z(\\beta)$ respectively, are the transformation matrices of the axis $y$ as function of $\\alpha$ and of the axis $z$ as function of $\\beta$. Multiplication of this equation, results in the velocity vector of the probe reference system as the following:\n",
        "\n",
        "\n",
        "$$\n",
        "\\begin{equation}\n",
        "  U_{probe} = \n",
        "  \\begin{bmatrix}\n",
        "      u_x \\\\\n",
        "      u_y \\\\\n",
        "      u_z\n",
        "   \\end{bmatrix} =\n",
        "   \\begin{bmatrix}\n",
        "       {\\ \\ }U_\\infty \\cdot \\cos(\\alpha) \\cdot \\cos(\\beta)  \\\\\n",
        "      -U_\\infty \\cdot \\cos(\\alpha) \\cdot \\sin(\\beta)  \\\\\n",
        "       U_\\infty \\cdot \\sin(\\alpha) \n",
        "   \\end{bmatrix}\n",
        "\\end{equation}\n",
        "$$\n",
        "\n",
        "\n",
        "For the calibration, the probe needs the angles in the polar or tangential reference system. The angles of those reference systems can be determined from the equation above. We are actually calculating what would be $\\theta$ and $\\phi$ or $\\alpha_T$ and $\\beta_T$ for a given velocity vector that are determined by the servo motors. By the polar reference system, we are doing that when we set the velocity components equal to those from the polar reference systems:\n",
        "\n",
        "$$\n",
        "\\begin{equation}\n",
        "  U_{probe} = \n",
        "  \\begin{bmatrix}\n",
        "      u_x \\\\\n",
        "      u_y \\\\\n",
        "      u_z\n",
        "   \\end{bmatrix} =\n",
        "   \\begin{bmatrix}\n",
        "       U_\\infty \\cdot \\cos(\\alpha) \\cdot \\cos(\\beta)  \\\\\n",
        "      -U_\\infty \\cdot \\cos(\\alpha) \\cdot \\sin(\\beta)  \\\\\n",
        "       U_\\infty \\cdot \\sin(\\alpha) \n",
        "   \\end{bmatrix} = \n",
        "   \\begin{bmatrix}\n",
        "       U_\\infty \\cdot \\cos(\\theta)  \\\\\n",
        "      -U_\\infty \\cdot \\sin(\\theta) \\cdot \\sin(\\phi)  \\\\\n",
        "       U_\\infty \\cdot \\sin(\\theta) \\cdot \\cos(\\phi) \n",
        "   \\end{bmatrix}\n",
        "\\end{equation}\n",
        "$$\n",
        "\n",
        "Finally, the polar system should be defined as follows: \n",
        "\n",
        "$$\n",
        "\\begin{align}\n",
        "  \\theta &= \\arccos\\left[\\cos(\\alpha) \\cdot \\cos(\\beta)\\right] \\\\\n",
        "  \\phi &= \\arctan\\left[-\\frac{\\sin(\\beta)}{\\tan(\\alpha)} \\right]\n",
        "\\end{align}\n",
        "$$\n",
        "\n",
        "To estimate the corresponding angles in the tangential reference system, the velocity components should be inserted into the following equation:\n",
        "\n",
        "$$\n",
        "\\begin{align}\n",
        "  \\alpha_T &= \\arctan \\left[ \\frac{u_z}{u_x} \\right] = \\arctan \\left[ \\frac{U_\\infty \\cdot \\sin(\\alpha)}{U_\\infty \\cdot \\cos(\\alpha) \\cdot \\cos(\\beta)} \\right]  \\\\\n",
        "  \\beta_T &  = \\arctan \\left[ \\frac{u_y}{u_x} \\right] = \\arctan \\left[ \\frac{-U_\\infty \\cdot \\cos(\\alpha) \\cdot \\sin(\\beta)}{U_\\infty \\cdot \\cos(\\alpha) \\cdot \\cos(\\beta)} \\right] \n",
        "\\end{align}\n",
        "$$\n",
        "\n",
        "Cleaning up this equation results in the following relationship between the $\\alpha_T$ and $\\beta_T$ and the servo motor angles:\n",
        "\n",
        "$$\n",
        "\\begin{align}\n",
        "  \\alpha_T &= \\arctan \\left[ \\frac{\\tan(\\alpha)}{\\cos(\\beta)} \\right]  \\\\\n",
        "  \\beta_T &  = -\\beta  \n",
        "\\end{align}\n",
        "$$\n",
        "\n",
        "The code below estimates these equations. For this case, the servo motor, and thus the probe, move in $\\alpha$ between negative and positive 60 degrees, and the rotation between $\\beta$ equals -90 and 90 degrees. First, the flow vector for each servo motor's position, $\\alpha$ and $\\beta$, will be estimated. Then corresponding $\\theta$ and $\\phi$ or $\\alpha_T$ and $\\beta_T$ for each $\\alpha$ and $\\beta$ will be estimated. This transformation should be handled with extra care by this singularity, such as $0, \\pm 90, \\pm 180$, where if the $\\sin$ or $\\cos$ can occur division by zero. "
      ]
    },
    {
      "cell_type": "code",
      "metadata": {
        "id": "XlXpgz3OexGt",
        "colab_type": "code",
        "colab": {}
      },
      "source": [
        "import numpy as np\n",
        "import math \n",
        "import matplotlib.pyplot as plt\n",
        "\n",
        "\n",
        "Uinf = 1.0;\n",
        "\n",
        "alpha = np.arange(-60, 60, 0.5)\n",
        "beta  = np.arange(-90, 90, 0.5)\n",
        "\n",
        "theta  = np.zeros((beta.size,alpha.size), dtype=float);\n",
        "phi    = np.zeros((beta.size,alpha.size), dtype=float);\n",
        "alphaT = np.zeros((beta.size,alpha.size), dtype=float);\n",
        "betaT  = np.zeros((beta.size,alpha.size), dtype=float);\n",
        "Uvec = np.zeros((beta.size,alpha.size, 3), dtype=float);\n",
        "\n",
        "for i, a in enumerate(alpha):\n",
        "  for j, b in enumerate(beta):\n",
        "    aRad = math.radians(a);\n",
        "    bRad = math.radians(b);\n",
        "    \n",
        "    Uvec[j, i, 0] =  Uinf * math.cos(aRad) * math.cos(bRad);\n",
        "    Uvec[j, i, 1] = -Uinf * math.cos(aRad) * math.sin(bRad);\n",
        "    Uvec[j, i, 2] =  Uinf * math.sin(aRad);\n",
        "    \n",
        "    # calculate Theta and Phi\n",
        "    if a >= 0:\n",
        "      theta[j, i] =   math.degrees(math.acos(math.cos(aRad) * math.cos(bRad)));\n",
        "    else:\n",
        "      theta[j, i] = - math.degrees(math.acos(math.cos(aRad) * math.cos(bRad)));\n",
        "      \n",
        "    if math.sin(aRad) != 0:\n",
        "      phi[j, i] = math.degrees(math.atan(- (math.cos(aRad) * math.sin(bRad)) / math.sin(aRad) ));\n",
        "    else:\n",
        "      if b >= 0:\n",
        "        phi[j, i] = -90;\n",
        "      else:\n",
        "        phi[j, i] = 90;\n",
        "        \n",
        "    # calculate AlphaT and BetaT\n",
        "    if np.cos(bRad) != 0:\n",
        "      alphaT[j, i] = np.degrees(np.arctan(np.tan(aRad) / np.cos(bRad)));\n",
        "    else:\n",
        "      alphaT[j, i] = a;\n",
        "      \n",
        "    betaT[j, i] = -b;\n"
      ],
      "execution_count": 0,
      "outputs": []
    },
    {
      "cell_type": "code",
      "metadata": {
        "id": "RZc8jsmnXYU6",
        "colab_type": "code",
        "colab": {}
      },
      "source": [
        "def mySubPlot(alpha, beta, *argv):\n",
        "  print(\"\")\n",
        "  nargv = len(argv) / 2\n",
        "  \n",
        "  # creat global level label vector\n",
        "  tempMaxValue = 0.0;\n",
        "  tempMinValue = 0.0;\n",
        "  for i, arg in enumerate(argv):\n",
        "    if i % 2 != 0:\n",
        "      maxValue = np.amax(arg);\n",
        "      maxValue = np.amax([maxValue, tempMaxValue]);\n",
        "      minValue = np.amin(arg);\n",
        "      minValue = np.amin([minValue, tempMinValue]);\n",
        "     \n",
        "\n",
        "  levelsArray = np.linspace(round(minValue), round(maxValue), 25)\n",
        "  \n",
        "  # plot data\n",
        "  fig, axes = plt.subplots(nrows=1, ncols=int(nargv))\n",
        "  for i, arg in enumerate(argv):\n",
        "    if i % 2 == 0:\n",
        "      title = arg;\n",
        "    else: \n",
        "      ax = plt.subplot(1, nargv, (i+1)/2)\n",
        "\n",
        "      cp = plt.contourf(alpha, beta, arg, levels=levelsArray, cmap='RdBu')\n",
        "\n",
        "      ax.set_title(title)\n",
        "      ax.set_xlabel(r'$\\alpha$ [deg]')\n",
        "      if i==1:\n",
        "        ax.set_ylabel(r'$\\beta$ [deg]')\n",
        "      ax.set_aspect('equal')\n",
        "      ax.grid(False)\n",
        "      \n",
        "      \n",
        "  fig.subplots_adjust(right=0.8)\n",
        "  cbar_ax = fig.add_axes([0.85, 0.15, 0.05, 0.7])\n",
        "  fig.colorbar(cp, cax=cbar_ax)\n",
        "  \n",
        "  plt.show()\n",
        "  "
      ],
      "execution_count": 0,
      "outputs": []
    },
    {
      "cell_type": "markdown",
      "metadata": {
        "id": "C9sYzgz9KlF2",
        "colab_type": "text"
      },
      "source": [
        "### Transformation Results\n",
        "\n",
        "Reviewing the execution of the code from the last section, reveals the corresponding results of each position for $\\alpha$ and $\\beta$. It is important to look into the results and to understand what we see. The first two figures show the transformation from the servo motor angles to the polar system, and the next two figures are the transformation into the tangential reference system. Here, it is important to check that the results have a sufficient range and no singularity. \n",
        "\n",
        "The last three figures are the velocity components, $u_x$, $u_y$ and $u_z$, in the fixed-body probe coordinate system. To validate this transformation, in the next section the flow field will be calculated with the result angles, $\\theta$ and $\\phi$ or $\\alpha_T$ and $\\beta_T$. If these angles and the equation of the polar system result in the same flow field as in the previous section, then the assumptions of the transformations were correct."
      ]
    },
    {
      "cell_type": "code",
      "metadata": {
        "id": "EvnSU31kLzrH",
        "colab_type": "code",
        "outputId": "c2024da3-c5c5-42bb-997f-6709fbee3465",
        "colab": {
          "base_uri": "https://localhost:8080/",
          "height": 824
        }
      },
      "source": [
        "# plot Theta and Phi\n",
        "mySubPlot(alpha, beta,\n",
        "          'Theta', theta,\n",
        "          'Phi', phi)\n",
        "\n",
        "# plot TAlpha_T and Beta_T\n",
        "mySubPlot(alpha, beta,\n",
        "          'alpha_T', alphaT,\n",
        "          'beta_T', betaT)\n",
        "\n",
        "# plot the velocity vector field\n",
        "mySubPlot(alpha, beta,\n",
        "                'U_x', Uvec[:,:,0],\n",
        "                'U_y', Uvec[:,:,1],\n",
        "                'U_z', Uvec[:,:,2])\n"
      ],
      "execution_count": 0,
      "outputs": [
        {
          "output_type": "stream",
          "text": [
            "\n"
          ],
          "name": "stdout"
        },
        {
          "output_type": "display_data",
          "data": {
            "image/png": "[encoded data removed]",
            "text/plain": [
              "<Figure size 432x288 with 3 Axes>"
            ]
          },
          "metadata": {
            "tags": []
          }
        },
        {
          "output_type": "stream",
          "text": [
            "\n"
          ],
          "name": "stdout"
        },
        {
          "output_type": "display_data",
          "data": {
            "image/png": "[encoded data removed]",
            "text/plain": [
              "<Figure size 432x288 with 3 Axes>"
            ]
          },
          "metadata": {
            "tags": []
          }
        },
        {
          "output_type": "stream",
          "text": [
            "\n"
          ],
          "name": "stdout"
        },
        {
          "output_type": "display_data",
          "data": {
            "image/png": "[encoded data removed]",
            "text/plain": [
              "<Figure size 432x288 with 4 Axes>"
            ]
          },
          "metadata": {
            "tags": []
          }
        }
      ]
    },
    {
      "cell_type": "markdown",
      "metadata": {
        "id": "RqEdwJ5LsZRM",
        "colab_type": "text"
      },
      "source": [
        "### Transformation Validation\n",
        "\n",
        "**Recall from the principles of the seven-hole probe gives, as a result, two angles and the velocity magnitude.** It doesn't matter with which servo motor system we calibrated the probe. The calibration input is in the tangential or polar reference system, so the results will also be  in the tangential or polar reference system as shown in Figure 2.\n",
        "\n",
        "To check the transformation between the reference systems, the flow field with $\\theta$ and $\\phi$ or with $\\alpha_T$ and $\\beta_T$ has been calculated. If it results in exactly the same flow field as calculated in the last section with $\\alpha$ and $\\beta$, then the transformation was correct. \n",
        "\n",
        "From the velocity magnitude and $\\alpha_T$ and $\\beta_T$ alone, the three components of the velocity vector cannot be estimated. So a transformation from those angles to the polar angles is required. To substitute the equation of the polar system into the tangential: \n",
        "\n",
        "$$\n",
        "\\begin{align}\n",
        "  \\tan(\\alpha_T) &= \\frac{u_z}{u_x} = \\frac{U_\\infty \\cdot \\sin(\\theta) \\cdot \\cos(\\phi)}{U_\\infty \\cdot \\cos(\\theta)} \\\\\n",
        "  \\tan(\\beta_T) &  = \\frac{u_y}{u_x} = \\frac{U_\\infty \\cdot \\sin(\\theta) \\cdot \\sin(\\phi)}{U_\\infty \\cdot \\cos(\\theta)}\n",
        "\\end{align}\n",
        "$$\n",
        "\n",
        "This results in the following relations:\n",
        "\n",
        "$$\n",
        "\\begin{align}\n",
        "  \\phi &= \\arctan \\left[ \\frac{\\tan(\\beta_T)}{\\tan(\\alpha_T)} \\right] \\\\\n",
        "  \\theta &= \\arctan \\left[ \\frac{\\tan(\\alpha_T)}{\\cos(\\phi)} \\right] \\quad \\text{or} \\quad \\theta = \\arctan \\left[ \\frac{\\tan(\\beta_T)}{\\sin(\\phi)} \\right] \n",
        "\\end{align} \n",
        "$$\n",
        "\n",
        "The velocity field from these angles is calculated with ordinary polar equations. Also here, the flow field calculated with these angles should be the same as the flow field calculated with the servo motors angles."
      ]
    },
    {
      "cell_type": "code",
      "metadata": {
        "id": "XaGbRkgATn2K",
        "colab_type": "code",
        "colab": {}
      },
      "source": [
        "\n",
        "UvecBack = np.zeros((beta.size,alpha.size, 3), dtype=float);\n",
        "\n",
        "UvecBack4Tang = np.zeros((beta.size,alpha.size, 3), dtype=float);\n",
        "\n",
        "for i, row in enumerate(theta):\n",
        "  for j, thetaTemp in enumerate(row):\n",
        "    \n",
        "    thetaRad = math.radians(theta[i,j])\n",
        "    phiRad = math.radians(phi[i,j])\n",
        "    \n",
        "    UvecBack[i,j, 0] = Uinf * math.cos(thetaRad);\n",
        "    UvecBack[i,j, 1] = Uinf * math.sin(thetaRad) * math.sin(phiRad);\n",
        "    UvecBack[i,j, 2] = Uinf * math.sin(thetaRad) * math.cos(phiRad);\n",
        "    \n",
        "    alphaTRad = np.radians(alphaT[i,j]);\n",
        "    betaTRad = np.radians(betaT[i,j]);\n",
        "    if np.cos(betaTRad) != 0 and np.sin(alphaTRad) != 0:\n",
        "      phiFromTanRad = np.arctan(np.tan(betaTRad) / np.tan(alphaTRad));\n",
        "      if np.cos(phiFromTanRad) != 0:\n",
        "        thetaFromTanRad = np.arctan(np.tan(alphaTRad) / np.cos(phiFromTanRad));\n",
        "      else:\n",
        "        thetaFromTanRad = np.arctan(np.tan(betaTRad) / np.sin(phiFromTanRad));\n",
        "        \n",
        "    elif np.sin(alphaTRad) == 0:\n",
        "      thetaFromTanRad = betaTRad;\n",
        "      phiFromTanRad = np.pi / 2.0;\n",
        "      \n",
        "    elif np.cos(betaTRad) == 0:\n",
        "      thetaFromTanRad = 0.0;\n",
        "      phiFromTanRad = thetaRad;\n",
        "      \n",
        "    UvecBack4Tang[i,j, 0] = Uinf * math.cos(thetaFromTanRad);\n",
        "    UvecBack4Tang[i,j, 1] = Uinf * math.sin(thetaFromTanRad) * math.sin(phiFromTanRad);\n",
        "    UvecBack4Tang[i,j, 2] = Uinf * math.sin(thetaFromTanRad) * math.cos(phiFromTanRad);\n",
        "    \n",
        "\n"
      ],
      "execution_count": 0,
      "outputs": []
    },
    {
      "cell_type": "markdown",
      "metadata": {
        "id": "184YzeGDU4nW",
        "colab_type": "text"
      },
      "source": [
        "In the result figures below the same velocity fields for the corresponding $\\alpha$ and $\\beta$ results from the estimation with $\\theta$ and $\\phi$ or with $\\alpha_T$ and $\\beta_T$. It means that the original transformation from servo motor angles to the probe system was correct."
      ]
    },
    {
      "cell_type": "code",
      "metadata": {
        "id": "HLeMwbISivn9",
        "colab_type": "code",
        "outputId": "6bbc486b-441b-49a4-8f8a-3f1233fe2ec9",
        "colab": {
          "base_uri": "https://localhost:8080/",
          "height": 504
        }
      },
      "source": [
        "mySubPlot(alpha, beta,\n",
        "                'U_x', UvecBack[:,:,0],\n",
        "                'U_y', UvecBack[:,:,1],\n",
        "                'U_z', UvecBack[:,:,2])\n",
        "\n",
        "mySubPlot(alpha, beta,\n",
        "                'U_x', UvecBack4Tang[:,:,0], \n",
        "                'U_y', UvecBack4Tang[:,:,1],\n",
        "                'U_z', UvecBack4Tang[:,:,2])\n"
      ],
      "execution_count": 0,
      "outputs": [
        {
          "output_type": "stream",
          "text": [
            "\n"
          ],
          "name": "stdout"
        },
        {
          "output_type": "display_data",
          "data": {
            "image/png": "[encoded data removed]",
            "text/plain": [
              "<Figure size 432x288 with 4 Axes>"
            ]
          },
          "metadata": {
            "tags": []
          }
        },
        {
          "output_type": "stream",
          "text": [
            "\n"
          ],
          "name": "stdout"
        },
        {
          "output_type": "display_data",
          "data": {
            "image/png": "[encoded data removed]",
            "text/plain": [
              "<Figure size 432x288 with 4 Axes>"
            ]
          },
          "metadata": {
            "tags": []
          }
        }
      ]
    },
    {
      "cell_type": "markdown",
      "metadata": {
        "id": "i8fvpL9eyqwY",
        "colab_type": "text"
      },
      "source": [
        "## X-Mount\n",
        "\n",
        "Similar to the calibration in the last section, the seven-hole probe can be calibrated also when using another servo motor system or probe Mount. In this section, the same servo system with a different mount will be used. The mount enables the rotation of the probe in its $y$-axis, followed by a rotation around its $x$ axes. The equation for the transformation from the internal wind tunnel system to the probe reference system can be described by:\n",
        "\n",
        "$$\n",
        "\\begin{equation}\n",
        "  \\vec{U}_{probe} = T_x(\\beta) \\cdot T_y(\\alpha) \\cdot \\vec{U}_{WT}\n",
        "\\end{equation}\n",
        "$$\n",
        "\n",
        "Multiplication of this equation results in the velocity vector of the probe reference system as follows:\n",
        "\n",
        "$$\n",
        "\\begin{equation}\n",
        "  U_{probe} = \n",
        "  \\begin{bmatrix}\n",
        "      u_x \\\\\n",
        "      u_y \\\\\n",
        "      u_z\n",
        "   \\end{bmatrix} =\n",
        "   \\begin{bmatrix}\n",
        "       U_\\infty \\cdot \\cos(\\alpha)  \\\\\n",
        "       U_\\infty \\cdot \\sin(\\alpha) \\cdot \\sin(\\beta)  \\\\\n",
        "       U_\\infty \\cdot \\sin(\\alpha) \\cdot \\cos(\\beta)\n",
        "   \\end{bmatrix}\n",
        "\\end{equation}\n",
        "$$\n",
        "\n",
        "Extract from these equations, the angles for the polar reference system to provide a simple relation between $\\alpha$ and $\\beta$ and $\\theta$ and $\\phi$.\n",
        "\n",
        "$$\n",
        "\\begin{align}\n",
        "  \\theta &= \\alpha \\\\\n",
        "  \\phi &= \\beta\n",
        "\\end{align}\n",
        "$$\n",
        "\n",
        "To estimate the relation between the servo angles and the tangential angles, the velocity components must be inserted into the tangential equations. Solving these equations result in the following relations:\n",
        "\n",
        "$$\n",
        "\\begin{align}\n",
        "  \\alpha_T &= \\arctan\\left[ \\tan(\\alpha) \\cdot \\cos(\\beta) \\right] \\\\\n",
        "  \\beta_T &= \\arctan\\left[ \\tan(\\alpha) \\cdot \\sin(\\beta) \\right] \n",
        "\\end{align}\n",
        "$$\n",
        "\n",
        "The code below calculates the corresponding the velocity vectors, polar and tangential angles for each $\\alpha$ and $\\beta$.\n"
      ]
    },
    {
      "cell_type": "code",
      "metadata": {
        "id": "boO2PEnxyt6k",
        "colab_type": "code",
        "colab": {}
      },
      "source": [
        "import numpy as np\n",
        "import math \n",
        "import matplotlib.pyplot as plt\n",
        "\n",
        "Uinf = 1.0;\n",
        "\n",
        "alpha = np.arange(-90, 90, 0.5);\n",
        "beta  = np.arange(-90, 90, 0.25);\n",
        "\n",
        "theta = np.zeros((beta.size,alpha.size), dtype=float);\n",
        "phi = np.zeros((beta.size,alpha.size), dtype=float);\n",
        "alphaT = np.zeros((beta.size,alpha.size), dtype=float);\n",
        "betaT = np.zeros((beta.size,alpha.size), dtype=float);\n",
        "Uvec = np.zeros((beta.size,alpha.size, 3), dtype=float);\n",
        "\n",
        "for i, a in enumerate(alpha):\n",
        "  for j, b in enumerate(beta):\n",
        "    aRad = math.radians(a);\n",
        "    bRad = math.radians(b);\n",
        "    \n",
        "    Uvec[j, i, 0] = Uinf * math.cos(aRad);\n",
        "    Uvec[j, i, 1] = Uinf * math.sin(aRad) * math.sin(bRad);\n",
        "    Uvec[j, i, 2] = Uinf * math.sin(aRad) * math.cos(bRad);\n",
        "    \n",
        "    theta[j, i] = a;\n",
        "    phi[j, i]   = b;\n",
        "    \n",
        "    if np.cos(aRad) != 0:\n",
        "      alphaT[j, i] = np.degrees(np.arctan(np.tan(aRad) * np.cos(bRad)));\n",
        "      betaT[j, i]  = np.degrees(np.arctan(np.tan(aRad) * np.sin(bRad)));\n",
        "    else:\n",
        "      alphaT[j, i] = a;\n",
        "      betaT[j, i]  = b;"
      ],
      "execution_count": 0,
      "outputs": []
    },
    {
      "cell_type": "markdown",
      "metadata": {
        "id": "VFEuKkBCj_C7",
        "colab_type": "text"
      },
      "source": [
        "### Transformation Results"
      ]
    },
    {
      "cell_type": "code",
      "metadata": {
        "id": "_NvsbeQQKwo4",
        "colab_type": "code",
        "outputId": "c36544e0-5e52-4ae4-d36c-a0ae4f83ba15",
        "colab": {
          "base_uri": "https://localhost:8080/",
          "height": 748
        }
      },
      "source": [
        "# plot Theta and Phi\n",
        "mySubPlot(alpha, beta,\n",
        "          '\\theta', theta,\n",
        "          'phi', phi)\n",
        "\n",
        "# plot Alpha_T and Beta_T\n",
        "mySubPlot(alpha, beta,\n",
        "          'alpha', alphaT,\n",
        "          'beta', betaT)\n",
        "\n",
        "# plot the velocity vector field\n",
        "mySubPlot(alpha, beta,\n",
        "                'U_x', Uvec[:,:,0],\n",
        "                'U_y', Uvec[:,:,1],\n",
        "                'U_z', Uvec[:,:,2])"
      ],
      "execution_count": 3,
      "outputs": [
        {
          "output_type": "stream",
          "text": [
            "\n"
          ],
          "name": "stdout"
        },
        {
          "output_type": "display_data",
          "data": {
            "image/png": "[encoded data removed]",
            "text/plain": [
              "<Figure size 432x288 with 3 Axes>"
            ]
          },
          "metadata": {
            "tags": []
          }
        },
        {
          "output_type": "stream",
          "text": [
            "\n"
          ],
          "name": "stdout"
        },
        {
          "output_type": "display_data",
          "data": {
            "image/png": "[encoded data removed]",
            "text/plain": [
              "<Figure size 432x288 with 3 Axes>"
            ]
          },
          "metadata": {
            "tags": []
          }
        },
        {
          "output_type": "stream",
          "text": [
            "\n"
          ],
          "name": "stdout"
        },
        {
          "output_type": "display_data",
          "data": {
            "image/png": "[encoded data removed]",
            "text/plain": [
              "<Figure size 432x288 with 4 Axes>"
            ]
          },
          "metadata": {
            "tags": []
          }
        }
      ]
    },
    {
      "cell_type": "markdown",
      "metadata": {
        "id": "ok5KA5qAR7_L",
        "colab_type": "text"
      },
      "source": [
        "### Transformation Validation\n",
        "\n",
        "Since the resulted angles from the probe are always given in the probe polar and tangential reference system, the velocity equations, as well as the transformation from tangential to polar system, are the same as for the Fork-Holder. "
      ]
    },
    {
      "cell_type": "code",
      "metadata": {
        "id": "TCddpz51R99j",
        "colab_type": "code",
        "colab": {}
      },
      "source": [
        "UvecBack = np.zeros((beta.size,alpha.size, 3), dtype=float);\n",
        "UvecBack4Tang = np.zeros((beta.size,alpha.size, 3), dtype=float);\n",
        "\n",
        "for i, row in enumerate(theta):\n",
        "  for j, thetaTemp in enumerate(row):\n",
        "    \n",
        "    thetaRad = math.radians(theta[i,j])\n",
        "    phiRad = math.radians(phi[i,j])\n",
        "    \n",
        "    UvecBack[i,j, 0] = Uinf * math.cos(thetaRad);\n",
        "    UvecBack[i,j, 1] = Uinf * math.sin(thetaRad) * math.sin(phiRad);\n",
        "    UvecBack[i,j, 2] = Uinf * math.sin(thetaRad) * math.cos(phiRad);\n",
        "    \n",
        "    alphaTRad = np.radians(alphaT[i,j]);\n",
        "    betaTRad = np.radians(betaT[i,j]);\n",
        "    if np.cos(betaTRad) != 0 and np.sin(alphaTRad) != 0:\n",
        "      phiFromTanRad = np.arctan(np.tan(betaTRad) / np.tan(alphaTRad));\n",
        "      if np.cos(phiFromTanRad) != 0:\n",
        "        thetaFromTanRad = np.arctan(np.tan(alphaTRad) / np.cos(phiFromTanRad));\n",
        "      else:\n",
        "        thetaFromTanRad = np.arctan(np.tan(betaTRad) / np.sin(phiFromTanRad));\n",
        "        \n",
        "    elif np.sin(alphaTRad) == 0:\n",
        "      thetaFromTanRad = betaTRad;\n",
        "      phiFromTanRad = np.pi / 2.0;\n",
        "      \n",
        "    elif np.cos(betaTRad) == 0:\n",
        "      thetaFromTanRad = 0.0;\n",
        "      phiFromTanRad = thetaRad;\n",
        "      \n",
        "    UvecBack4Tang[i,j, 0] = Uinf * math.cos(thetaFromTanRad);\n",
        "    UvecBack4Tang[i,j, 1] = Uinf * math.sin(thetaFromTanRad) * math.sin(phiFromTanRad);\n",
        "    UvecBack4Tang[i,j, 2] = Uinf * math.sin(thetaFromTanRad) * math.cos(phiFromTanRad);"
      ],
      "execution_count": 0,
      "outputs": []
    },
    {
      "cell_type": "code",
      "metadata": {
        "id": "J67Iv9CASDcO",
        "colab_type": "code",
        "outputId": "729acf7c-527d-4a26-ba65-d4929b426aa7",
        "colab": {
          "base_uri": "https://localhost:8080/",
          "height": 504
        }
      },
      "source": [
        "\n",
        "mySubPlot(alpha, beta,\n",
        "                'U_x', UvecBack[:,:,0], \n",
        "                'U_y', UvecBack[:,:,1],\n",
        "                'U_z', UvecBack[:,:,2])\n",
        "\n",
        "mySubPlot(alpha, beta,\n",
        "                'U_x', UvecBack4Tang[:,:,0], \n",
        "                'U_y', UvecBack4Tang[:,:,1],\n",
        "                'U_z', UvecBack4Tang[:,:,2])"
      ],
      "execution_count": 5,
      "outputs": [
        {
          "output_type": "stream",
          "text": [
            "\n"
          ],
          "name": "stdout"
        },
        {
          "output_type": "display_data",
          "data": {
            "image/png": "[encoded data removed]",
            "text/plain": [
              "<Figure size 432x288 with 4 Axes>"
            ]
          },
          "metadata": {
            "tags": []
          }
        },
        {
          "output_type": "stream",
          "text": [
            "\n"
          ],
          "name": "stdout"
        },
        {
          "output_type": "display_data",
          "data": {
            "image/png": "[encoded data removed]",
            "text/plain": [
              "<Figure size 432x288 with 4 Axes>"
            ]
          },
          "metadata": {
            "tags": []
          }
        }
      ]
    },
    {
      "cell_type": "markdown",
      "metadata": {
        "id": "iQoNEwCwiydC",
        "colab_type": "text"
      },
      "source": [
        "# Summary\n",
        "The practical calibration of a seven-hole probe with a python code has been shown. The seven-hole probe distinguishes between two reference systems: the tangential and the polar reference systems. The pressure matrix of the coefficient and the constant matrix coefficients for the calibration have been defined, as well as the results vector for the calibration.\n",
        "\n",
        "The transformation between the coordinate system has been shown using the example of the calibration of a seven-hole probe in a wind tunnel. The wind tunnel and the moving probes are also a good example for many applications that can be found in wind tunnel experiments. The transformation between the known servo system angles and the required probe reference system angle has been defined. Validation of these transformations was carried out in order to prove the correctness of the equation and the transformation of the singular angles.\n",
        "\n",
        "This document was constructed to serve those who want to use a seven-hole probe in their aerodynamic research.\n"
      ]
    },
    {
      "cell_type": "markdown",
      "metadata": {
        "id": "6zxtSpe2YQ2l",
        "colab_type": "text"
      },
      "source": [
        "# References\n",
        "\n",
        "[1]\n",
        "Zilliac, G.G.\n",
        "*Modelling, calibration, and error analysis of seven-hole pressure probes*\n",
        "(1993) Experiments in Fluids: Experimental Methods and their Applications to Fluid Flow, 14 (1), pp. 104-120.\n",
        "\n",
        "[2]\n",
        "Everett, K.N., Gerner, A.A., Durston, D.A.\n",
        "*Seven-hole cone probes for high angle flow measurement: Theory and calibration*\n",
        "(1983) AIAA Journal, 21 (7), pp. 992-998.\n",
        "\n",
        "[3]\n",
        "L. Ericksen, A & W. Gallington, R & M. Rao, B & S. Barankiewicz, W. (1995). Rapid calibration of seven-hole probes. October 1995. Technical Report. NASA Lewis Research Center; Cleveland, OH, United States."
      ]
    }
  ]
}